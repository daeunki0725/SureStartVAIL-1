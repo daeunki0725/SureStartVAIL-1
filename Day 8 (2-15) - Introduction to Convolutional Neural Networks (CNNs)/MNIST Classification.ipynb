{
 "cells": [
  {
   "cell_type": "markdown",
   "id": "presidential-answer",
   "metadata": {},
   "source": [
    "# MNIST Classification Project"
   ]
  },
  {
   "cell_type": "markdown",
   "id": "based-efficiency",
   "metadata": {},
   "source": [
    "Using CNNs to Classify Handwritten Digits with Tensorflow and Keras"
   ]
  },
  {
   "cell_type": "code",
   "execution_count": 1,
   "id": "active-waterproof",
   "metadata": {},
   "outputs": [
    {
     "name": "stdout",
     "output_type": "stream",
     "text": [
      "Requirement already satisfied: scikit-learn in /home/nordaxion/anaconda3/lib/python3.8/site-packages (0.23.2)\n",
      "Requirement already satisfied: pandas in /home/nordaxion/anaconda3/lib/python3.8/site-packages (1.2.1)\n",
      "Requirement already satisfied: seaborn in /home/nordaxion/anaconda3/lib/python3.8/site-packages (0.11.1)\n",
      "Requirement already satisfied: python-dateutil>=2.7.3 in /home/nordaxion/anaconda3/lib/python3.8/site-packages (from pandas) (2.8.1)\n",
      "Requirement already satisfied: pytz>=2017.3 in /home/nordaxion/anaconda3/lib/python3.8/site-packages (from pandas) (2021.1)\n",
      "Requirement already satisfied: numpy>=1.16.5 in /home/nordaxion/anaconda3/lib/python3.8/site-packages (from pandas) (1.19.2)\n",
      "Requirement already satisfied: six>=1.5 in /home/nordaxion/anaconda3/lib/python3.8/site-packages (from python-dateutil>=2.7.3->pandas) (1.15.0)\n",
      "Requirement already satisfied: joblib>=0.11 in /home/nordaxion/anaconda3/lib/python3.8/site-packages (from scikit-learn) (1.0.0)\n",
      "Requirement already satisfied: scipy>=0.19.1 in /home/nordaxion/anaconda3/lib/python3.8/site-packages (from scikit-learn) (1.6.0)\n",
      "Requirement already satisfied: threadpoolctl>=2.0.0 in /home/nordaxion/anaconda3/lib/python3.8/site-packages (from scikit-learn) (2.1.0)\n",
      "Requirement already satisfied: matplotlib>=2.2 in /home/nordaxion/anaconda3/lib/python3.8/site-packages (from seaborn) (3.3.2)\n",
      "Requirement already satisfied: certifi>=2020.06.20 in /home/nordaxion/anaconda3/lib/python3.8/site-packages (from matplotlib>=2.2->seaborn) (2020.12.5)\n",
      "Requirement already satisfied: pillow>=6.2.0 in /home/nordaxion/anaconda3/lib/python3.8/site-packages (from matplotlib>=2.2->seaborn) (8.1.0)\n",
      "Requirement already satisfied: cycler>=0.10 in /home/nordaxion/anaconda3/lib/python3.8/site-packages (from matplotlib>=2.2->seaborn) (0.10.0)\n",
      "Requirement already satisfied: kiwisolver>=1.0.1 in /home/nordaxion/anaconda3/lib/python3.8/site-packages (from matplotlib>=2.2->seaborn) (1.3.1)\n",
      "Requirement already satisfied: pyparsing!=2.0.4,!=2.1.2,!=2.1.6,>=2.0.3 in /home/nordaxion/anaconda3/lib/python3.8/site-packages (from matplotlib>=2.2->seaborn) (2.4.7)\n"
     ]
    }
   ],
   "source": [
    "# Import necessary libraries\n",
    "!pip install scikit-learn pandas seaborn\n",
    "import numpy as np\n",
    "import matplotlib.pyplot as plt\n",
    "import tensorflow as tf\n",
    "import sklearn as sk\n",
    "import pandas as pd\n",
    "from sklearn.metrics import confusion_matrix\n",
    "import seaborn as sns"
   ]
  },
  {
   "cell_type": "code",
   "execution_count": 2,
   "id": "gorgeous-glory",
   "metadata": {},
   "outputs": [
    {
     "name": "stdout",
     "output_type": "stream",
     "text": [
      "Downloading data from https://storage.googleapis.com/tensorflow/tf-keras-datasets/mnist.npz\n",
      "11493376/11490434 [==============================] - 4s 0us/step\n"
     ]
    }
   ],
   "source": [
    "# Use the MNIST handwriting dataset\n",
    "(X_train, y_train), (X_test, y_test) = tf.keras.datasets.mnist.load_data()"
   ]
  },
  {
   "cell_type": "code",
   "execution_count": 3,
   "id": "indirect-error",
   "metadata": {},
   "outputs": [],
   "source": [
    "# Preprocess the data\n",
    "X_train, X_test = X_train / 255.0, X_test / 255.0\n",
    "y_train = tf.keras.utils.to_categorical(y_train)\n",
    "y_test = tf.keras.utils.to_categorical(y_test)\n",
    "X_train = X_train.reshape(\n",
    "    X_train.shape[0], X_train.shape[1], X_train.shape[2], 1\n",
    ")\n",
    "X_test = X_test.reshape(\n",
    "    X_test.shape[0], X_test.shape[1], X_test.shape[2], 1\n",
    ")"
   ]
  },
  {
   "cell_type": "code",
   "execution_count": 4,
   "id": "important-russian",
   "metadata": {},
   "outputs": [
    {
     "name": "stdout",
     "output_type": "stream",
     "text": [
      "Model: \"sequential\"\n",
      "_________________________________________________________________\n",
      "Layer (type)                 Output Shape              Param #   \n",
      "=================================================================\n",
      "conv2d (Conv2D)              (None, 26, 26, 32)        320       \n",
      "_________________________________________________________________\n",
      "max_pooling2d (MaxPooling2D) (None, 13, 13, 32)        0         \n",
      "_________________________________________________________________\n",
      "flatten (Flatten)            (None, 5408)              0         \n",
      "_________________________________________________________________\n",
      "dense (Dense)                (None, 128)               692352    \n",
      "_________________________________________________________________\n",
      "dropout (Dropout)            (None, 128)               0         \n",
      "_________________________________________________________________\n",
      "dense_1 (Dense)              (None, 10)                1290      \n",
      "=================================================================\n",
      "Total params: 693,962\n",
      "Trainable params: 693,962\n",
      "Non-trainable params: 0\n",
      "_________________________________________________________________\n"
     ]
    }
   ],
   "source": [
    "# Create a model\n",
    "model = tf.keras.models.Sequential([\n",
    "    tf.keras.layers.Conv2D(\n",
    "        32, (3, 3), activation=\"relu\", input_shape=(28, 28, 1)\n",
    "    ),\n",
    "    tf.keras.layers.MaxPooling2D(pool_size=(2, 2)),\n",
    "    tf.keras.layers.Flatten(),\n",
    "    tf.keras.layers.Dense(128, activation=\"relu\"),\n",
    "    tf.keras.layers.Dropout(0.5),\n",
    "    tf.keras.layers.Dense(10, activation=\"softmax\")\n",
    "])\n",
    "model.summary()"
   ]
  },
  {
   "cell_type": "code",
   "execution_count": 5,
   "id": "professional-hygiene",
   "metadata": {},
   "outputs": [
    {
     "name": "stdout",
     "output_type": "stream",
     "text": [
      "Epoch 1/10\n",
      "1875/1875 [==============================] - 158s 84ms/step - loss: 0.2695 - accuracy: 0.9188\n",
      "Epoch 2/10\n",
      "1875/1875 [==============================] - 164s 87ms/step - loss: 0.1145 - accuracy: 0.9655\n",
      "Epoch 3/10\n",
      "1875/1875 [==============================] - 163s 87ms/step - loss: 0.0914 - accuracy: 0.9720\n",
      "Epoch 4/10\n",
      "1875/1875 [==============================] - 167s 89ms/step - loss: 0.0774 - accuracy: 0.9756\n",
      "Epoch 5/10\n",
      "1875/1875 [==============================] - 161s 86ms/step - loss: 0.0683 - accuracy: 0.9786\n",
      "Epoch 6/10\n",
      "1875/1875 [==============================] - 163s 87ms/step - loss: 0.0609 - accuracy: 0.9809\n",
      "Epoch 7/10\n",
      "1875/1875 [==============================] - 162s 86ms/step - loss: 0.0543 - accuracy: 0.9831\n",
      "Epoch 8/10\n",
      "1875/1875 [==============================] - 158s 84ms/step - loss: 0.0491 - accuracy: 0.9845\n",
      "Epoch 9/10\n",
      "1875/1875 [==============================] - 170s 91ms/step - loss: 0.0434 - accuracy: 0.9858\n",
      "Epoch 10/10\n",
      "1875/1875 [==============================] - 174s 93ms/step - loss: 0.0409 - accuracy: 0.9865\n"
     ]
    },
    {
     "data": {
      "text/plain": [
       "<tensorflow.python.keras.callbacks.History at 0x7feaeeeb1340>"
      ]
     },
     "execution_count": 5,
     "metadata": {},
     "output_type": "execute_result"
    }
   ],
   "source": [
    "# Train neural network\n",
    "model.compile(\n",
    "    optimizer=\"adam\",\n",
    "    loss=\"categorical_crossentropy\",\n",
    "    metrics=[\"accuracy\"]\n",
    ")\n",
    "model.fit(X_train, y_train, epochs=10)"
   ]
  },
  {
   "cell_type": "code",
   "execution_count": 6,
   "id": "included-cooperative",
   "metadata": {},
   "outputs": [
    {
     "name": "stdout",
     "output_type": "stream",
     "text": [
      "313/313 - 13s - loss: 0.0469 - accuracy: 0.9861\n"
     ]
    },
    {
     "data": {
      "text/plain": [
       "[0.04689651355147362, 0.9861000180244446]"
      ]
     },
     "execution_count": 6,
     "metadata": {},
     "output_type": "execute_result"
    }
   ],
   "source": [
    "# Evaluate neural network performance\n",
    "model.evaluate(X_test,  y_test, verbose=2)"
   ]
  },
  {
   "cell_type": "code",
   "execution_count": 23,
   "id": "polyphonic-sleep",
   "metadata": {},
   "outputs": [
    {
     "data": {
      "text/plain": [
       "<AxesSubplot:>"
      ]
     },
     "execution_count": 23,
     "metadata": {},
     "output_type": "execute_result"
    },
    {
     "data": {
      "image/png": "[encoded data removed]",
      "text/plain": [
       "<Figure size 432x288 with 2 Axes>"
      ]
     },
     "metadata": {
      "needs_background": "light"
     },
     "output_type": "display_data"
    }
   ],
   "source": [
    "# Create a confusion matrix\n",
    "y_pred = model.predict(X_test)\n",
    "confusion_m = confusion_matrix(np.argmax(y_test, axis=1), np.argmax(y_pred, axis=1))\n",
    "sns.heatmap(confusion_m, annot=True)"
   ]
  },
  {
   "cell_type": "code",
   "execution_count": null,
   "id": "integrated-flower",
   "metadata": {},
   "outputs": [],
   "source": []
  }
 ],
 "metadata": {
  "kernelspec": {
   "display_name": "Python 3",
   "language": "python",
   "name": "python3"
  },
  "language_info": {
   "codemirror_mode": {
    "name": "ipython",
    "version": 3
   },
   "file_extension": ".py",
   "mimetype": "text/x-python",
   "name": "python",
   "nbconvert_exporter": "python",
   "pygments_lexer": "ipython3",
   "version": "3.8.5"
  }
 },
 "nbformat": 4,
 "nbformat_minor": 5
}
